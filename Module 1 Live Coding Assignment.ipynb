{
 "cells": [
  {
   "cell_type": "markdown",
   "metadata": {},
   "source": [
    "#Question 1\n",
    "Assign the value of 384 divided by 16.43 to a variable called \"result\". Then add 17.67 to it.\n",
    "Make sure that the returned value is a float."
   ]
  },
  {
   "cell_type": "code",
   "execution_count": 1,
   "metadata": {},
   "outputs": [
    {
     "name": "stdout",
     "output_type": "stream",
     "text": [
      "41.041880706025566\n"
     ]
    }
   ],
   "source": [
    "result=384/16.43\n",
    "result=float(result+17.67)\n",
    "print(result)"
   ]
  },
  {
   "cell_type": "markdown",
   "metadata": {},
   "source": [
    "#Question 2\n",
    "Create a list with elements 2, Python, 23.54, 34, and list, and assign it to a variable called\n",
    "\"my list\". Next, delete the second last item of my list"
   ]
  },
  {
   "cell_type": "code",
   "execution_count": 3,
   "metadata": {},
   "outputs": [
    {
     "name": "stdout",
     "output_type": "stream",
     "text": [
      "[2, 'Python', 23.54, 'list']\n"
     ]
    }
   ],
   "source": [
    "my_list=[2, \"Python\", 23.54, 34, \"list\"]\n",
    "del my_list[-2]\n",
    "print(my_list)"
   ]
  },
  {
   "cell_type": "markdown",
   "metadata": {},
   "source": [
    "#Question 3\n",
    "Create a tuple with the values from 2 to 15, and assign it to a variable called \"my_tuple\".\n",
    "Then, get the first 5 values and assign it to a variable called \"my_sliced_tuple\". Finally,\n",
    "change the value of the second last element of \"my_sliced_tuple\" to 20."
   ]
  },
  {
   "cell_type": "code",
   "execution_count": 4,
   "metadata": {},
   "outputs": [],
   "source": [
    "my_tuple=(2, 3, 4, 5, 6, 7, 8, 9, 10, 11, 12, 13, 14, 15)"
   ]
  },
  {
   "cell_type": "code",
   "execution_count": 7,
   "metadata": {},
   "outputs": [
    {
     "name": "stdout",
     "output_type": "stream",
     "text": [
      "(2, 3, 4, 20, 6)\n"
     ]
    }
   ],
   "source": [
    "my_sliced_tuple=list(my_tuple[0:5])\n",
    "my_sliced_tuple[-2]=20\n",
    "my_sliced_tuple=tuple(my_sliced_tuple)\n",
    "print(my_sliced_tuple)"
   ]
  },
  {
   "cell_type": "markdown",
   "metadata": {},
   "source": [
    "#Question 4\n",
    "Define a list called \"fruits\" with the following elements: apple, peach, cherry, banana, pear,\n",
    "orange, lemon. Print the elements to screen in your list using a for loop, but exit the loop\n",
    "before printing the word \"pear\"."
   ]
  },
  {
   "cell_type": "code",
   "execution_count": 16,
   "metadata": {},
   "outputs": [
    {
     "name": "stdout",
     "output_type": "stream",
     "text": [
      "apple\n",
      "peach\n",
      "cherry\n",
      "banana\n"
     ]
    }
   ],
   "source": [
    "fruits=['apple', 'peach', 'cherry', 'banana', 'pear', 'orange', 'lemon']\n",
    "for i in fruits:\n",
    "    if i=='pear':\n",
    "        break\n",
    "    print (i)"
   ]
  },
  {
   "cell_type": "markdown",
   "metadata": {},
   "source": [
    "#Question 5\n",
    "Create a dictionary where the keys are the words Colorado, Boston, Edmonton and Minnesota and the values are Avalanche, Bruins, Oilers, Twins and assign it to a variable called \"my_dict\". Print the type of my dict and the dictionary itself to to screen. Next, change the value of the word Minnesota to Wild."
   ]
  },
  {
   "cell_type": "code",
   "execution_count": null,
   "metadata": {},
   "outputs": [],
   "source": [
    "my_dict={'Colorado': 'Avalanche', 'Boston': 'Bruins', 'Edmonton': 'Oilers', 'Minnesota': 'Twins'}\n",
    "print(type(my_dict), my_dict)\n",
    "my_dict['Wild']=my_dict.pop('Minnesota')\n",
    "print(my_dict)"
   ]
  },
  {
   "cell_type": "markdown",
   "metadata": {},
   "source": [
    "#Question 6\n",
    "Use a while loop to calculate the sum of the integers from 0 to 12 and after completing the loop, else statement executes."
   ]
  },
  {
   "cell_type": "code",
   "execution_count": null,
   "metadata": {},
   "outputs": [],
   "source": [
    "num=0\n",
    "sum=0\n",
    "while num<12:\n",
    "    num=num+1\n",
    "    sum=sum+num\n",
    "else:\n",
    "    pass\n",
    "print(sum)\n"
   ]
  },
  {
   "cell_type": "markdown",
   "metadata": {},
   "source": [
    "#Question 7\n",
    "Create a list called \"num1\" with elements 1,4,6,7 and a second list called \"num2\" with elements 1,2,5,6. Create a program that prints to screen the sum of two elements of the lists if they are equal or their product if they are not the same. Hint: Use nested for loops."
   ]
  },
  {
   "cell_type": "code",
   "execution_count": null,
   "metadata": {},
   "outputs": [],
   "source": [
    "num1=[1,4,6,7]\n",
    "num2=[1,2,5,6]\n",
    "\n",
    "for i in num1:\n",
    "  for j in num2:\n",
    "    if i==j:\n",
    "      print (i+j)\n",
    "    else:\n",
    "      print (i*j)"
   ]
  },
  {
   "cell_type": "markdown",
   "metadata": {},
   "source": [
    "#Question 8\n",
    "Create a function called \"square odd number\" that takes a number and squares it if the number is odd and prints the message \"Error, the passed value is not odd\". Test your function with the values 11 and 14 by printing the results to screen."
   ]
  },
  {
   "cell_type": "code",
   "execution_count": null,
   "metadata": {},
   "outputs": [],
   "source": [
    "def square_odd_number(n):\n",
    "    if n%2==0:\n",
    "        return 'Error, the passed value is not odd'\n",
    "    else:\n",
    "        return n**2\n",
    "        \n",
    "print(square_odd_number(11))\n",
    "print(square_odd_number(14))"
   ]
  },
  {
   "cell_type": "code",
   "execution_count": null,
   "metadata": {},
   "outputs": [],
   "source": []
  }
 ],
 "metadata": {
  "kernelspec": {
   "display_name": "Python 3",
   "language": "python",
   "name": "python3"
  },
  "language_info": {
   "codemirror_mode": {
    "name": "ipython",
    "version": 3
   },
   "file_extension": ".py",
   "mimetype": "text/x-python",
   "name": "python",
   "nbconvert_exporter": "python",
   "pygments_lexer": "ipython3",
   "version": "3.8.3"
  }
 },
 "nbformat": 4,
 "nbformat_minor": 4
}
