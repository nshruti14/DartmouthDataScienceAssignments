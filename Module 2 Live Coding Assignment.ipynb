{
 "cells": [
  {
   "cell_type": "markdown",
   "metadata": {},
   "source": [
    "Question 1\n",
    "Create a Pandas dataframe called \\df\" containing 4 columns named Id, Continent, Country, Capital and the values\n",
    "\n",
    "Sort df in descending order with respect to the column \"Continent\"."
   ]
  },
  {
   "cell_type": "code",
   "execution_count": 2,
   "metadata": {},
   "outputs": [
    {
     "name": "stdout",
     "output_type": "stream",
     "text": [
      "   Id      Continent   Country  Capital\n",
      "2   3           Asia     China  Beijing\n",
      "0   1         Europe     Italy     Rome\n",
      "1   2         Europe    France    Paris\n",
      "4   5         Europe  Germnany   Berlin\n",
      "3   4  North America    Canada   Ottawa\n"
     ]
    }
   ],
   "source": [
    "import pandas as pd\n",
    "\n",
    "df=pd.DataFrame({'Id':[1, 2, 3, 4,5], 'Continent': ['Europe', 'Europe', 'Asia', 'North America', 'Europe'], 'Country': ['Italy', 'France', 'China', 'Canada', 'Germnany'], 'Capital':['Rome', 'Paris', 'Beijing', 'Ottawa', 'Berlin']})\n",
    "df=df.sort_values('Continent')\n",
    "\n",
    "print(df)"
   ]
  },
  {
   "cell_type": "markdown",
   "metadata": {},
   "source": [
    "Question 2\n",
    "Consider the dataframe df defined in Question 1. Delete the column with label \"Continent\" and rename the column \"Capital\" to \"Country Capital\""
   ]
  },
  {
   "cell_type": "code",
   "execution_count": 3,
   "metadata": {},
   "outputs": [
    {
     "name": "stdout",
     "output_type": "stream",
     "text": [
      "   Id   Country Country Capital\n",
      "2   3     China         Beijing\n",
      "0   1     Italy            Rome\n",
      "1   2    France           Paris\n",
      "4   5  Germnany          Berlin\n",
      "3   4    Canada          Ottawa\n"
     ]
    }
   ],
   "source": [
    "df.drop('Continent', inplace=True, axis=1)\n",
    "df.rename(columns={'Capital':'Country Capital'}, inplace=True)\n",
    "print(df)"
   ]
  },
  {
   "cell_type": "markdown",
   "metadata": {},
   "source": [
    "Question 3\n",
    "Read the CSV file named \"foo.csv\" in the data folder and assign it to a dataframe called \"df2\". Compute the average of the values of the column \"price\" and assign it to a variable called \"average price\". Next, create a filter to get all rows where the column \"price\" is less or equal than 5. Call this new dataframe \"df price\". Print the returned value and dataframe to screen."
   ]
  },
  {
   "cell_type": "code",
   "execution_count": 4,
   "metadata": {},
   "outputs": [
    {
     "name": "stdout",
     "output_type": "stream",
     "text": [
      "6.052631578947368\n",
      "    id firstName     lastName  billingId     product  price       birth  \\\n",
      "6    7      CaRL     Ga%%%uss        323        taco      3  13-07-1970   \n",
      "7    8     David   H$$$ilbert        624    taaaccoo      3  14-07-1950   \n",
      "8    9  Johannes       KEPLER        735        taco      3  22-04-1920   \n",
      "9   10     JaMES  M$$ax%%well        875        taco      3  12-03-1923   \n",
      "12  13    Max!!!    Planck!!!        111  hamburguer      4  04-01-1994   \n",
      "15  16   William   Gilbert###        886        BEER      2  26-03-1958   \n",
      "16  17     Marie        CURIE        912        Rice      1  22-03-2000   \n",
      "\n",
      "   dummyCol  \n",
      "6     gonna  \n",
      "7       let  \n",
      "8       you  \n",
      "9      down  \n",
      "12     run   \n",
      "15   desert  \n",
      "16      you  \n"
     ]
    }
   ],
   "source": [
    "df2=pd.read_csv('foo.csv')\n",
    "average_price=df2['price'].mean()\n",
    "print(average_price)\n",
    "df_price=df2[df2['price']<5]\n",
    "print(df_price)"
   ]
  },
  {
   "cell_type": "markdown",
   "metadata": {},
   "source": [
    "Question 4\n",
    "Create a python lambda function called \"add ten\" that adds 10 to a certain variable \"x\".\n",
    "Next apply this function to all the entries of the column \"billingId\" in the database df2 from the previous question. Assign the new values to a list called \"added values\". Return the list to screen. Hint:use the pandas command \"map\" ."
   ]
  },
  {
   "cell_type": "code",
   "execution_count": 5,
   "metadata": {},
   "outputs": [
    {
     "name": "stdout",
     "output_type": "stream",
     "text": [
      "0      133\n",
      "1      433\n",
      "2      561\n",
      "3      531\n",
      "4      644\n",
      "5      682\n",
      "6      333\n",
      "7      634\n",
      "8      745\n",
      "9      885\n",
      "10    1002\n",
      "11     244\n",
      "12     121\n",
      "13     563\n",
      "14     126\n",
      "15     896\n",
      "16     922\n",
      "17     822\n",
      "18     477\n",
      "Name: billingId, dtype: int64\n"
     ]
    }
   ],
   "source": [
    "add_ten=lambda x: x+10\n",
    "added_values=df2['billingId'].map(add_ten)\n",
    "print(added_values)"
   ]
  },
  {
   "cell_type": "markdown",
   "metadata": {},
   "source": [
    "Question 5\n",
    "Split the dataframe df2 from the previous questions into two dataframes with odd rows in one dataframe and even rows\n",
    "in a different one. Assign the new dataframes to \"df2 odd\" and \"df2 even\" and print them to screen."
   ]
  },
  {
   "cell_type": "code",
   "execution_count": 21,
   "metadata": {},
   "outputs": [
    {
     "name": "stdout",
     "output_type": "stream",
     "text": [
      "    id             firstName     lastName  billingId     product  price  \\\n",
      "0    1                  Luis  Alvarez$$%!        123        Cake     10   \n",
      "2    3                 NiELS   Böhr//((%%        551       pizza      8   \n",
      "4    5                Albert     Einstein        634       pizza      8   \n",
      "6    7                  CaRL     Ga%%%uss        323        taco      3   \n",
      "8    9              Johannes       KEPLER        735        taco      3   \n",
      "10  11                 Isaac       Newton        992       pasta      9   \n",
      "12  13                Max!!!    Planck!!!        111  hamburguer      4   \n",
      "14  15  (((   Heinrich )))))        Hertz        116       pizza      8   \n",
      "16  17                 Marie        CURIE        912        Rice      1   \n",
      "18  19                 JAMES     Chadwick        467         NaN     10   \n",
      "\n",
      "         birth dummyCol  \n",
      "0   07-07-1980    never  \n",
      "2   09-07-1990     give  \n",
      "4   11-07-1990       up  \n",
      "6   13-07-1970    gonna  \n",
      "8   22-04-1920      you  \n",
      "10  15-02-1999   never   \n",
      "12  04-01-1994     run   \n",
      "14  30-11-1956      and  \n",
      "16  22-03-2000      you  \n",
      "18  03-05-1921        #       id firstName              lastName  billingId   product  price  \\\n",
      "1    2     André                Ampère        423      piza      8   \n",
      "3    4      PAUL                dirac$        521     pizza      8   \n",
      "5    6   Galileo               GALiLEI        672     arepa      5   \n",
      "7    8     David            H$$$ilbert        624  taaaccoo      3   \n",
      "9   10     JaMES           M$$ax%%well        875      taco      3   \n",
      "11  12    Emmy%%              Nöether$        234     pasta      9   \n",
      "13  14      Fred              Hoy&&&le        553    pizzza      8   \n",
      "15  16   William            Gilbert###        886      BEER      2   \n",
      "17  18    Arthur            COM%%%pton        812    110790      5   \n",
      "\n",
      "         birth dummyCol  \n",
      "1   08-07-1950    gonna  \n",
      "3   10-07-1954      you  \n",
      "5   12-08-1930    never  \n",
      "7   14-07-1950      let  \n",
      "9   12-03-1923     down  \n",
      "11  08-12-1993    gonna  \n",
      "13  27-06-1997   around  \n",
      "15  26-03-1958   desert  \n",
      "17  1899/01/01        #  \n"
     ]
    }
   ],
   "source": [
    "df2_even=df2.iloc[lambda x: x.index%2==0]\n",
    "df2_odd=df2.iloc[lambda x:x.index%2!=0]\n",
    "print(df2_even, df2_odd)"
   ]
  },
  {
   "cell_type": "code",
   "execution_count": null,
   "metadata": {},
   "outputs": [],
   "source": []
  }
 ],
 "metadata": {
  "kernelspec": {
   "display_name": "Python 3",
   "language": "python",
   "name": "python3"
  },
  "language_info": {
   "codemirror_mode": {
    "name": "ipython",
    "version": 3
   },
   "file_extension": ".py",
   "mimetype": "text/x-python",
   "name": "python",
   "nbconvert_exporter": "python",
   "pygments_lexer": "ipython3",
   "version": "3.8.3"
  }
 },
 "nbformat": 4,
 "nbformat_minor": 4
}
